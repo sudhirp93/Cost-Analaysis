{
 "cells": [
  {
   "cell_type": "code",
   "execution_count": 152,
   "metadata": {},
   "outputs": [],
   "source": [
    "#importing the required libraries\n",
    "import pandas as pd\n",
    "import numpy as np\n",
    "\n",
    "import matplotlib.pyplot as plt\n",
    "%matplotlib inline\n",
    "import seaborn as sns\n",
    "\n",
    "import warnings\n",
    "warnings.filterwarnings('ignore')"
   ]
  },
  {
   "cell_type": "code",
   "execution_count": 153,
   "metadata": {},
   "outputs": [],
   "source": [
    "#read the dataset\n",
    "file1 = pd.read_excel('file_01_current_supply_network.xlsb', engine = 'pyxlsb')"
   ]
  },
  {
   "cell_type": "code",
   "execution_count": 154,
   "metadata": {},
   "outputs": [
    {
     "data": {
      "text/html": [
       "<div>\n",
       "<style scoped>\n",
       "    .dataframe tbody tr th:only-of-type {\n",
       "        vertical-align: middle;\n",
       "    }\n",
       "\n",
       "    .dataframe tbody tr th {\n",
       "        vertical-align: top;\n",
       "    }\n",
       "\n",
       "    .dataframe thead th {\n",
       "        text-align: right;\n",
       "    }\n",
       "</style>\n",
       "<table border=\"1\" class=\"dataframe\">\n",
       "  <thead>\n",
       "    <tr style=\"text-align: right;\">\n",
       "      <th></th>\n",
       "      <th>supplier_location</th>\n",
       "      <th>customer_location</th>\n",
       "      <th>shipment_size</th>\n",
       "      <th>payment_option</th>\n",
       "      <th>product_quantity</th>\n",
       "      <th>current_logistics_vendor</th>\n",
       "    </tr>\n",
       "  </thead>\n",
       "  <tbody>\n",
       "    <tr>\n",
       "      <th>0</th>\n",
       "      <td>facility_01</td>\n",
       "      <td>201301</td>\n",
       "      <td>small</td>\n",
       "      <td>cod</td>\n",
       "      <td>2156</td>\n",
       "      <td>v1</td>\n",
       "    </tr>\n",
       "    <tr>\n",
       "      <th>1</th>\n",
       "      <td>facility_01</td>\n",
       "      <td>122001</td>\n",
       "      <td>small</td>\n",
       "      <td>cod</td>\n",
       "      <td>1859</td>\n",
       "      <td>v1</td>\n",
       "    </tr>\n",
       "    <tr>\n",
       "      <th>2</th>\n",
       "      <td>facility_01</td>\n",
       "      <td>248001</td>\n",
       "      <td>small</td>\n",
       "      <td>cod</td>\n",
       "      <td>1805</td>\n",
       "      <td>v1</td>\n",
       "    </tr>\n",
       "    <tr>\n",
       "      <th>3</th>\n",
       "      <td>facility_01</td>\n",
       "      <td>201301</td>\n",
       "      <td>small</td>\n",
       "      <td>prepaid</td>\n",
       "      <td>1555</td>\n",
       "      <td>v1</td>\n",
       "    </tr>\n",
       "    <tr>\n",
       "      <th>4</th>\n",
       "      <td>facility_01</td>\n",
       "      <td>800001</td>\n",
       "      <td>small</td>\n",
       "      <td>cod</td>\n",
       "      <td>1508</td>\n",
       "      <td>v1</td>\n",
       "    </tr>\n",
       "  </tbody>\n",
       "</table>\n",
       "</div>"
      ],
      "text/plain": [
       "  supplier_location  customer_location shipment_size payment_option  \\\n",
       "0       facility_01             201301         small            cod   \n",
       "1       facility_01             122001         small            cod   \n",
       "2       facility_01             248001         small            cod   \n",
       "3       facility_01             201301         small        prepaid   \n",
       "4       facility_01             800001         small            cod   \n",
       "\n",
       "   product_quantity current_logistics_vendor  \n",
       "0              2156                       v1  \n",
       "1              1859                       v1  \n",
       "2              1805                       v1  \n",
       "3              1555                       v1  \n",
       "4              1508                       v1  "
      ]
     },
     "execution_count": 154,
     "metadata": {},
     "output_type": "execute_result"
    }
   ],
   "source": [
    "file1.head()"
   ]
  },
  {
   "cell_type": "code",
   "execution_count": 155,
   "metadata": {},
   "outputs": [
    {
     "data": {
      "text/plain": [
       "(92851, 6)"
      ]
     },
     "execution_count": 155,
     "metadata": {},
     "output_type": "execute_result"
    }
   ],
   "source": [
    "file1.shape"
   ]
  },
  {
   "cell_type": "code",
   "execution_count": 156,
   "metadata": {},
   "outputs": [
    {
     "data": {
      "text/html": [
       "<div>\n",
       "<style scoped>\n",
       "    .dataframe tbody tr th:only-of-type {\n",
       "        vertical-align: middle;\n",
       "    }\n",
       "\n",
       "    .dataframe tbody tr th {\n",
       "        vertical-align: top;\n",
       "    }\n",
       "\n",
       "    .dataframe thead th {\n",
       "        text-align: right;\n",
       "    }\n",
       "</style>\n",
       "<table border=\"1\" class=\"dataframe\">\n",
       "  <thead>\n",
       "    <tr style=\"text-align: right;\">\n",
       "      <th></th>\n",
       "      <th>supplier_location</th>\n",
       "      <th>customer_location</th>\n",
       "      <th>shipment_zone</th>\n",
       "    </tr>\n",
       "  </thead>\n",
       "  <tbody>\n",
       "    <tr>\n",
       "      <th>0</th>\n",
       "      <td>facility_06</td>\n",
       "      <td>110001</td>\n",
       "      <td>zone_a</td>\n",
       "    </tr>\n",
       "    <tr>\n",
       "      <th>1</th>\n",
       "      <td>facility_06</td>\n",
       "      <td>110001</td>\n",
       "      <td>zone_a</td>\n",
       "    </tr>\n",
       "    <tr>\n",
       "      <th>2</th>\n",
       "      <td>facility_06</td>\n",
       "      <td>110001</td>\n",
       "      <td>zone_a</td>\n",
       "    </tr>\n",
       "    <tr>\n",
       "      <th>3</th>\n",
       "      <td>facility_06</td>\n",
       "      <td>110001</td>\n",
       "      <td>zone_a</td>\n",
       "    </tr>\n",
       "    <tr>\n",
       "      <th>4</th>\n",
       "      <td>facility_06</td>\n",
       "      <td>110001</td>\n",
       "      <td>zone_a</td>\n",
       "    </tr>\n",
       "  </tbody>\n",
       "</table>\n",
       "</div>"
      ],
      "text/plain": [
       "  supplier_location  customer_location shipment_zone\n",
       "0       facility_06             110001        zone_a\n",
       "1       facility_06             110001        zone_a\n",
       "2       facility_06             110001        zone_a\n",
       "3       facility_06             110001        zone_a\n",
       "4       facility_06             110001        zone_a"
      ]
     },
     "execution_count": 156,
     "metadata": {},
     "output_type": "execute_result"
    }
   ],
   "source": [
    "file4 = pd.read_excel('file_04_zone_info.xlsb', engine = 'pyxlsb')\n",
    "file4.head()"
   ]
  },
  {
   "cell_type": "code",
   "execution_count": 157,
   "metadata": {},
   "outputs": [],
   "source": [
    "file4 = file4.drop_duplicates()"
   ]
  },
  {
   "cell_type": "code",
   "execution_count": 158,
   "metadata": {},
   "outputs": [
    {
     "data": {
      "text/plain": [
       "(92851, 7)"
      ]
     },
     "execution_count": 158,
     "metadata": {},
     "output_type": "execute_result"
    }
   ],
   "source": [
    "#merging dataset\n",
    "merged_df = pd.merge(file1, file4, how = 'left', on = ['supplier_location', 'customer_location'])\n",
    "merged_df.shape"
   ]
  },
  {
   "cell_type": "code",
   "execution_count": 159,
   "metadata": {},
   "outputs": [],
   "source": [
    "merged_df.to_csv('supply_network.csv')"
   ]
  },
  {
   "cell_type": "code",
   "execution_count": 160,
   "metadata": {},
   "outputs": [
    {
     "data": {
      "text/html": [
       "<div>\n",
       "<style scoped>\n",
       "    .dataframe tbody tr th:only-of-type {\n",
       "        vertical-align: middle;\n",
       "    }\n",
       "\n",
       "    .dataframe tbody tr th {\n",
       "        vertical-align: top;\n",
       "    }\n",
       "\n",
       "    .dataframe thead th {\n",
       "        text-align: right;\n",
       "    }\n",
       "</style>\n",
       "<table border=\"1\" class=\"dataframe\">\n",
       "  <thead>\n",
       "    <tr style=\"text-align: right;\">\n",
       "      <th></th>\n",
       "      <th>Unnamed: 0</th>\n",
       "      <th>supplier_location</th>\n",
       "      <th>customer_location</th>\n",
       "      <th>shipment_size</th>\n",
       "      <th>payment_option</th>\n",
       "      <th>product_quantity</th>\n",
       "      <th>current_logistics_vendor</th>\n",
       "      <th>shipment_zone</th>\n",
       "    </tr>\n",
       "  </thead>\n",
       "  <tbody>\n",
       "    <tr>\n",
       "      <th>0</th>\n",
       "      <td>0</td>\n",
       "      <td>facility_01</td>\n",
       "      <td>201301</td>\n",
       "      <td>small</td>\n",
       "      <td>cod</td>\n",
       "      <td>2156</td>\n",
       "      <td>v1</td>\n",
       "      <td>zone_a</td>\n",
       "    </tr>\n",
       "    <tr>\n",
       "      <th>1</th>\n",
       "      <td>1</td>\n",
       "      <td>facility_01</td>\n",
       "      <td>122001</td>\n",
       "      <td>small</td>\n",
       "      <td>cod</td>\n",
       "      <td>1859</td>\n",
       "      <td>v1</td>\n",
       "      <td>zone_a</td>\n",
       "    </tr>\n",
       "    <tr>\n",
       "      <th>2</th>\n",
       "      <td>2</td>\n",
       "      <td>facility_01</td>\n",
       "      <td>248001</td>\n",
       "      <td>small</td>\n",
       "      <td>cod</td>\n",
       "      <td>1805</td>\n",
       "      <td>v1</td>\n",
       "      <td>zone_b</td>\n",
       "    </tr>\n",
       "    <tr>\n",
       "      <th>3</th>\n",
       "      <td>3</td>\n",
       "      <td>facility_01</td>\n",
       "      <td>201301</td>\n",
       "      <td>small</td>\n",
       "      <td>prepaid</td>\n",
       "      <td>1555</td>\n",
       "      <td>v1</td>\n",
       "      <td>zone_a</td>\n",
       "    </tr>\n",
       "    <tr>\n",
       "      <th>4</th>\n",
       "      <td>4</td>\n",
       "      <td>facility_01</td>\n",
       "      <td>800001</td>\n",
       "      <td>small</td>\n",
       "      <td>cod</td>\n",
       "      <td>1508</td>\n",
       "      <td>v1</td>\n",
       "      <td>zone_c</td>\n",
       "    </tr>\n",
       "  </tbody>\n",
       "</table>\n",
       "</div>"
      ],
      "text/plain": [
       "   Unnamed: 0 supplier_location  customer_location shipment_size  \\\n",
       "0           0       facility_01             201301         small   \n",
       "1           1       facility_01             122001         small   \n",
       "2           2       facility_01             248001         small   \n",
       "3           3       facility_01             201301         small   \n",
       "4           4       facility_01             800001         small   \n",
       "\n",
       "  payment_option  product_quantity current_logistics_vendor shipment_zone  \n",
       "0            cod              2156                       v1        zone_a  \n",
       "1            cod              1859                       v1        zone_a  \n",
       "2            cod              1805                       v1        zone_b  \n",
       "3        prepaid              1555                       v1        zone_a  \n",
       "4            cod              1508                       v1        zone_c  "
      ]
     },
     "execution_count": 160,
     "metadata": {},
     "output_type": "execute_result"
    }
   ],
   "source": [
    "supply_network = pd.read_csv('supply_network.csv')\n",
    "supply_network.head()"
   ]
  },
  {
   "cell_type": "code",
   "execution_count": 161,
   "metadata": {},
   "outputs": [],
   "source": [
    "supply_network.drop('Unnamed: 0', axis = 1, inplace = True)"
   ]
  },
  {
   "cell_type": "markdown",
   "metadata": {},
   "source": [
    "#### Q1. What is the current vendor wise supply volume distributed?"
   ]
  },
  {
   "cell_type": "code",
   "execution_count": 162,
   "metadata": {},
   "outputs": [],
   "source": [
    "supply_volume = supply_network.groupby('current_logistics_vendor')['product_quantity'].sum()"
   ]
  },
  {
   "cell_type": "code",
   "execution_count": 163,
   "metadata": {},
   "outputs": [],
   "source": [
    "supply_volume = pd.DataFrame(supply_volume)"
   ]
  },
  {
   "cell_type": "code",
   "execution_count": 164,
   "metadata": {},
   "outputs": [
    {
     "data": {
      "text/html": [
       "<div>\n",
       "<style scoped>\n",
       "    .dataframe tbody tr th:only-of-type {\n",
       "        vertical-align: middle;\n",
       "    }\n",
       "\n",
       "    .dataframe tbody tr th {\n",
       "        vertical-align: top;\n",
       "    }\n",
       "\n",
       "    .dataframe thead th {\n",
       "        text-align: right;\n",
       "    }\n",
       "</style>\n",
       "<table border=\"1\" class=\"dataframe\">\n",
       "  <thead>\n",
       "    <tr style=\"text-align: right;\">\n",
       "      <th></th>\n",
       "      <th>product_quantity</th>\n",
       "    </tr>\n",
       "    <tr>\n",
       "      <th>current_logistics_vendor</th>\n",
       "      <th></th>\n",
       "    </tr>\n",
       "  </thead>\n",
       "  <tbody>\n",
       "    <tr>\n",
       "      <th>v1</th>\n",
       "      <td>3099255</td>\n",
       "    </tr>\n",
       "    <tr>\n",
       "      <th>v2</th>\n",
       "      <td>94423</td>\n",
       "    </tr>\n",
       "    <tr>\n",
       "      <th>v3</th>\n",
       "      <td>116688</td>\n",
       "    </tr>\n",
       "    <tr>\n",
       "      <th>v4</th>\n",
       "      <td>194907</td>\n",
       "    </tr>\n",
       "  </tbody>\n",
       "</table>\n",
       "</div>"
      ],
      "text/plain": [
       "                          product_quantity\n",
       "current_logistics_vendor                  \n",
       "v1                                 3099255\n",
       "v2                                   94423\n",
       "v3                                  116688\n",
       "v4                                  194907"
      ]
     },
     "execution_count": 164,
     "metadata": {},
     "output_type": "execute_result"
    }
   ],
   "source": [
    "supply_volume"
   ]
  },
  {
   "cell_type": "markdown",
   "metadata": {},
   "source": [
    "##### vendor wise supply volume with different shipment_size"
   ]
  },
  {
   "cell_type": "code",
   "execution_count": 165,
   "metadata": {},
   "outputs": [
    {
     "data": {
      "text/html": [
       "<div>\n",
       "<style scoped>\n",
       "    .dataframe tbody tr th:only-of-type {\n",
       "        vertical-align: middle;\n",
       "    }\n",
       "\n",
       "    .dataframe tbody tr th {\n",
       "        vertical-align: top;\n",
       "    }\n",
       "\n",
       "    .dataframe thead th {\n",
       "        text-align: right;\n",
       "    }\n",
       "</style>\n",
       "<table border=\"1\" class=\"dataframe\">\n",
       "  <thead>\n",
       "    <tr style=\"text-align: right;\">\n",
       "      <th></th>\n",
       "      <th></th>\n",
       "      <th></th>\n",
       "      <th>product_quantity</th>\n",
       "    </tr>\n",
       "    <tr>\n",
       "      <th>shipment_zone</th>\n",
       "      <th>payment_option</th>\n",
       "      <th>shipment_size</th>\n",
       "      <th></th>\n",
       "    </tr>\n",
       "  </thead>\n",
       "  <tbody>\n",
       "    <tr>\n",
       "      <th rowspan=\"6\" valign=\"top\">zone_a</th>\n",
       "      <th rowspan=\"3\" valign=\"top\">cod</th>\n",
       "      <th>large</th>\n",
       "      <td>2915</td>\n",
       "    </tr>\n",
       "    <tr>\n",
       "      <th>medium</th>\n",
       "      <td>72836</td>\n",
       "    </tr>\n",
       "    <tr>\n",
       "      <th>small</th>\n",
       "      <td>209766</td>\n",
       "    </tr>\n",
       "    <tr>\n",
       "      <th rowspan=\"3\" valign=\"top\">prepaid</th>\n",
       "      <th>large</th>\n",
       "      <td>3062</td>\n",
       "    </tr>\n",
       "    <tr>\n",
       "      <th>medium</th>\n",
       "      <td>43040</td>\n",
       "    </tr>\n",
       "    <tr>\n",
       "      <th>small</th>\n",
       "      <td>106733</td>\n",
       "    </tr>\n",
       "    <tr>\n",
       "      <th rowspan=\"6\" valign=\"top\">zone_b</th>\n",
       "      <th rowspan=\"3\" valign=\"top\">cod</th>\n",
       "      <th>large</th>\n",
       "      <td>3904</td>\n",
       "    </tr>\n",
       "    <tr>\n",
       "      <th>medium</th>\n",
       "      <td>234371</td>\n",
       "    </tr>\n",
       "    <tr>\n",
       "      <th>small</th>\n",
       "      <td>851645</td>\n",
       "    </tr>\n",
       "    <tr>\n",
       "      <th rowspan=\"3\" valign=\"top\">prepaid</th>\n",
       "      <th>large</th>\n",
       "      <td>1476</td>\n",
       "    </tr>\n",
       "    <tr>\n",
       "      <th>medium</th>\n",
       "      <td>62354</td>\n",
       "    </tr>\n",
       "    <tr>\n",
       "      <th>small</th>\n",
       "      <td>207939</td>\n",
       "    </tr>\n",
       "    <tr>\n",
       "      <th rowspan=\"6\" valign=\"top\">zone_c</th>\n",
       "      <th rowspan=\"3\" valign=\"top\">cod</th>\n",
       "      <th>large</th>\n",
       "      <td>1130</td>\n",
       "    </tr>\n",
       "    <tr>\n",
       "      <th>medium</th>\n",
       "      <td>174220</td>\n",
       "    </tr>\n",
       "    <tr>\n",
       "      <th>small</th>\n",
       "      <td>1210969</td>\n",
       "    </tr>\n",
       "    <tr>\n",
       "      <th rowspan=\"3\" valign=\"top\">prepaid</th>\n",
       "      <th>large</th>\n",
       "      <td>862</td>\n",
       "    </tr>\n",
       "    <tr>\n",
       "      <th>medium</th>\n",
       "      <td>46608</td>\n",
       "    </tr>\n",
       "    <tr>\n",
       "      <th>small</th>\n",
       "      <td>271443</td>\n",
       "    </tr>\n",
       "  </tbody>\n",
       "</table>\n",
       "</div>"
      ],
      "text/plain": [
       "                                            product_quantity\n",
       "shipment_zone payment_option shipment_size                  \n",
       "zone_a        cod            large                      2915\n",
       "                             medium                    72836\n",
       "                             small                    209766\n",
       "              prepaid        large                      3062\n",
       "                             medium                    43040\n",
       "                             small                    106733\n",
       "zone_b        cod            large                      3904\n",
       "                             medium                   234371\n",
       "                             small                    851645\n",
       "              prepaid        large                      1476\n",
       "                             medium                    62354\n",
       "                             small                    207939\n",
       "zone_c        cod            large                      1130\n",
       "                             medium                   174220\n",
       "                             small                   1210969\n",
       "              prepaid        large                       862\n",
       "                             medium                    46608\n",
       "                             small                    271443"
      ]
     },
     "execution_count": 165,
     "metadata": {},
     "output_type": "execute_result"
    }
   ],
   "source": [
    "shipment_wise = pd.DataFrame(supply_network.groupby(['shipment_zone', 'payment_option', 'shipment_size'])['product_quantity'].sum())\n",
    "shipment_wise"
   ]
  },
  {
   "cell_type": "code",
   "execution_count": 166,
   "metadata": {},
   "outputs": [],
   "source": [
    "shipment_wise.reset_index(inplace = True)"
   ]
  },
  {
   "cell_type": "markdown",
   "metadata": {},
   "source": [
    "##### Q2. What is the current vendor wise cost incurred for fulfilling the supply network?"
   ]
  },
  {
   "cell_type": "code",
   "execution_count": 167,
   "metadata": {},
   "outputs": [],
   "source": [
    "#read the cost_data\n",
    "cost_data = pd.read_excel('file_02_cost_data.xlsb', engine = 'pyxlsb')"
   ]
  },
  {
   "cell_type": "code",
   "execution_count": 168,
   "metadata": {},
   "outputs": [],
   "source": [
    "#replacement\n",
    "cost_data['zone'] = cost_data['zone'].replace('zone_C', 'zone_c')"
   ]
  },
  {
   "cell_type": "code",
   "execution_count": 169,
   "metadata": {},
   "outputs": [],
   "source": [
    "#segregate the supply network dataset vendors wise\n",
    "v1 = supply_network[supply_network['current_logistics_vendor'] == 'v1']\n",
    "v2 = supply_network[supply_network['current_logistics_vendor'] == 'v2']\n",
    "v3 = supply_network[supply_network['current_logistics_vendor'] == 'v3']\n",
    "v4 = supply_network[supply_network['current_logistics_vendor'] == 'v4']"
   ]
  },
  {
   "cell_type": "code",
   "execution_count": 170,
   "metadata": {},
   "outputs": [],
   "source": [
    "#segregate the zone and payment_option wise\n",
    "v1_zoneA = v1[v1['shipment_zone'] == 'zone_a']\n",
    "v1_zoneB = v1[v1['shipment_zone'] == 'zone_b']\n",
    "v1_zoneC = v1[v1['shipment_zone'] == 'zone_c']\n",
    "\n",
    "v1_zoneA_cod = v1_zoneA[v1_zoneA['payment_option'] == 'cod']\n",
    "v1_zoneA_pre = v1_zoneA[v1_zoneA['payment_option'] == 'prepaid']\n",
    "v1_zoneB_cod = v1_zoneB[v1_zoneB['payment_option'] == 'cod']\n",
    "v1_zoneB_pre = v1_zoneB[v1_zoneB['payment_option'] == 'prepaid']\n",
    "v1_zoneC_cod = v1_zoneC[v1_zoneC['payment_option'] == 'cod']\n",
    "v1_zoneC_pre = v1_zoneC[v1_zoneC['payment_option'] == 'prepaid']"
   ]
  },
  {
   "cell_type": "code",
   "execution_count": 171,
   "metadata": {},
   "outputs": [
    {
     "name": "stdout",
     "output_type": "stream",
     "text": [
      "cost_of_v1_in_cod_zoneA: 27655080\n",
      "cost_of_v1_in_pre_zoneA: 13549090\n",
      "cost of v1 in zoneA: 41204170\n"
     ]
    }
   ],
   "source": [
    "#filtered the data based on shipment_size\n",
    "v1_zoneA_cod_small = v1_zoneA_cod[v1_zoneA_cod['shipment_size'] == 'small']\n",
    "v1_zoneA_cod_medium = v1_zoneA_cod[v1_zoneA_cod['shipment_size'] == 'medium']\n",
    "v1_zoneA_cod_large = v1_zoneA_cod[v1_zoneA_cod['shipment_size'] == 'large']\n",
    "v1_zoneA_pre_small = v1_zoneA_pre[v1_zoneA_pre['shipment_size'] == 'small']\n",
    "v1_zoneA_pre_medium = v1_zoneA_pre[v1_zoneA_pre['shipment_size'] == 'medium']\n",
    "v1_zoneA_pre_large = v1_zoneA_pre[v1_zoneA_pre['shipment_size'] == 'large']\n",
    "\n",
    "#calculation of cost of product_quantity\n",
    "cost_v1_zoneA_cod_sum = []\n",
    "cost_v1_zoneA_cod_small = (v1_zoneA_cod_small['product_quantity'].sum()) * 50\n",
    "cost_v1_zoneA_cod_medium = (v1_zoneA_cod_medium['product_quantity'].sum()) * 210\n",
    "cost_v1_zoneA_cod_large = (v1_zoneA_cod_large['product_quantity'].sum()) * 740\n",
    "cost_v1_zoneA_cod_sum.extend((cost_v1_zoneA_cod_small,cost_v1_zoneA_cod_medium,cost_v1_zoneA_cod_large))\n",
    "cost_v1_zoneA_cod_sum = np.sum(cost_v1_zoneA_cod_sum)\n",
    "print('cost_of_v1_in_cod_zoneA: %d' % (cost_v1_zoneA_cod_sum))\n",
    "\n",
    "cost_v1_zoneA_pre_sum = []\n",
    "cost_v1_zoneA_pre_small = (v1_zoneA_pre_small['product_quantity'].sum()) * 30\n",
    "cost_v1_zoneA_pre_medium = (v1_zoneA_pre_medium['product_quantity'].sum()) * 190\n",
    "cost_v1_zoneA_pre_large = (v1_zoneA_pre_large['product_quantity'].sum()) * 720\n",
    "cost_v1_zoneA_pre_sum.extend((cost_v1_zoneA_pre_small,cost_v1_zoneA_pre_medium,cost_v1_zoneA_pre_large))\n",
    "cost_v1_zoneA_pre_sum = np.sum(cost_v1_zoneA_pre_sum)\n",
    "print('cost_of_v1_in_pre_zoneA: %d' % (cost_v1_zoneA_pre_sum))\n",
    "\n",
    "#cost of vendor 1 in zone-A\n",
    "cost_v1_zoneA = []\n",
    "cost_v1_zoneA.extend((cost_v1_zoneA_cod_sum, cost_v1_zoneA_pre_sum))\n",
    "cost_v1_zoneA = np.sum(cost_v1_zoneA)\n",
    "print('cost of v1 in zoneA: %d' %(cost_v1_zoneA))"
   ]
  },
  {
   "cell_type": "code",
   "execution_count": 172,
   "metadata": {},
   "outputs": [
    {
     "name": "stdout",
     "output_type": "stream",
     "text": [
      "cost_of_v1_in_cod_zoneB: 99256990\n",
      "cost_of_v1_in_pre_zoneB: 22760980\n",
      "cost of v1 in zoneB: 122017970\n"
     ]
    }
   ],
   "source": [
    "#filtered the zone-B dataset\n",
    "v1_zoneB_cod_small = v1_zoneB_cod[v1_zoneB_cod['shipment_size'] == 'small']\n",
    "v1_zoneB_cod_medium = v1_zoneB_cod[v1_zoneB_cod['shipment_size'] == 'medium']\n",
    "v1_zoneB_cod_large = v1_zoneB_cod[v1_zoneB_cod['shipment_size'] == 'large']\n",
    "v1_zoneB_pre_small = v1_zoneB_pre[v1_zoneB_pre['shipment_size'] == 'small']\n",
    "v1_zoneB_pre_medium = v1_zoneB_pre[v1_zoneB_pre['shipment_size'] == 'medium']\n",
    "v1_zoneB_pre_large = v1_zoneB_pre[v1_zoneB_pre['shipment_size'] == 'large']\n",
    "\n",
    "#calculation of cost \n",
    "cost_v1_zoneB_cod_sum = []\n",
    "cost_v1_zoneB_cod_small = (v1_zoneB_cod_small['product_quantity'].sum()) * 60\n",
    "cost_v1_zoneB_cod_medium = (v1_zoneB_cod_medium['product_quantity'].sum()) * 260\n",
    "cost_v1_zoneB_cod_large = (v1_zoneB_cod_large['product_quantity'].sum()) * 870\n",
    "cost_v1_zoneB_cod_sum.extend((cost_v1_zoneB_cod_small,cost_v1_zoneB_cod_medium,cost_v1_zoneB_cod_large))\n",
    "cost_v1_zoneB_cod_sum = np.sum(cost_v1_zoneB_cod_sum)\n",
    "print('cost_of_v1_in_cod_zoneB: %d' % (cost_v1_zoneB_cod_sum))\n",
    "\n",
    "cost_v1_zoneB_pre_sum = []\n",
    "cost_v1_zoneB_pre_small = (v1_zoneB_pre_small['product_quantity'].sum()) * 40\n",
    "cost_v1_zoneB_pre_medium = (v1_zoneB_pre_medium['product_quantity'].sum()) * 240\n",
    "cost_v1_zoneB_pre_large = (v1_zoneB_pre_large['product_quantity'].sum()) * 850\n",
    "cost_v1_zoneB_pre_sum.extend((cost_v1_zoneB_pre_small,cost_v1_zoneB_pre_medium,cost_v1_zoneB_pre_large))\n",
    "cost_v1_zoneB_pre_sum = np.sum(cost_v1_zoneB_pre_sum)\n",
    "print('cost_of_v1_in_pre_zoneB: %d' % (cost_v1_zoneB_pre_sum))\n",
    "\n",
    "#cost of vendor-1 in zone-B\n",
    "cost_v1_zoneB = []\n",
    "cost_v1_zoneB.extend((cost_v1_zoneB_cod_sum, cost_v1_zoneB_pre_sum))\n",
    "cost_v1_zoneB = np.sum(cost_v1_zoneB)\n",
    "print('cost of v1 in zoneB: %d' %(cost_v1_zoneB))"
   ]
  },
  {
   "cell_type": "code",
   "execution_count": 173,
   "metadata": {},
   "outputs": [
    {
     "name": "stdout",
     "output_type": "stream",
     "text": [
      "cost_of_v1_in_cod_zoneC: 170178420\n",
      "cost_of_v1_in_pre_zoneC: 36637480\n",
      "cost of v1 in zoneC: 206815900\n"
     ]
    }
   ],
   "source": [
    "#filtered the zone-C dataset based on shipment_size\n",
    "v1_zoneC_cod_small = v1_zoneC_cod[v1_zoneC_cod['shipment_size'] == 'small']\n",
    "v1_zoneC_cod_medium = v1_zoneC_cod[v1_zoneC_cod['shipment_size'] == 'medium']\n",
    "v1_zoneC_cod_large = v1_zoneC_cod[v1_zoneC_cod['shipment_size'] == 'large']\n",
    "v1_zoneC_pre_small = v1_zoneC_pre[v1_zoneC_pre['shipment_size'] == 'small']\n",
    "v1_zoneC_pre_medium = v1_zoneC_pre[v1_zoneC_pre['shipment_size'] == 'medium']\n",
    "v1_zoneC_pre_large = v1_zoneC_pre[v1_zoneC_pre['shipment_size'] == 'large']\n",
    "\n",
    "cost_v1_zoneC_cod_sum = []\n",
    "cost_v1_zoneC_cod_small = (v1_zoneC_cod_small['product_quantity'].sum()) * 90\n",
    "cost_v1_zoneC_cod_medium = (v1_zoneC_cod_medium['product_quantity'].sum()) * 480\n",
    "cost_v1_zoneC_cod_large = (v1_zoneC_cod_large['product_quantity'].sum()) * 1480\n",
    "cost_v1_zoneC_cod_sum.extend((cost_v1_zoneC_cod_small,cost_v1_zoneC_cod_medium,cost_v1_zoneC_cod_large))\n",
    "cost_v1_zoneC_cod_sum = np.sum(cost_v1_zoneC_cod_sum)\n",
    "print('cost_of_v1_in_cod_zoneC: %d' % (cost_v1_zoneC_cod_sum))\n",
    "\n",
    "\n",
    "cost_v1_zoneC_pre_sum = []\n",
    "cost_v1_zoneC_pre_small = (v1_zoneC_pre_small['product_quantity'].sum()) * 60\n",
    "cost_v1_zoneC_pre_medium = (v1_zoneC_pre_medium['product_quantity'].sum()) * 450\n",
    "cost_v1_zoneC_pre_large = (v1_zoneC_pre_large['product_quantity'].sum()) * 1450\n",
    "cost_v1_zoneC_pre_sum.extend((cost_v1_zoneC_pre_small,cost_v1_zoneC_pre_medium,cost_v1_zoneC_pre_large))\n",
    "cost_v1_zoneC_pre_sum = np.sum(cost_v1_zoneC_pre_sum)\n",
    "print('cost_of_v1_in_pre_zoneC: %d' % (cost_v1_zoneC_pre_sum))\n",
    "\n",
    "#cost of vendor-1 in zone-C\n",
    "cost_v1_zoneC = []\n",
    "cost_v1_zoneC.extend((cost_v1_zoneC_cod_sum, cost_v1_zoneC_pre_sum))\n",
    "cost_v1_zoneC = np.sum(cost_v1_zoneC)\n",
    "print('cost of v1 in zoneC: %d' %(cost_v1_zoneC))"
   ]
  },
  {
   "cell_type": "code",
   "execution_count": 174,
   "metadata": {},
   "outputs": [
    {
     "name": "stdout",
     "output_type": "stream",
     "text": [
      "Total cost of v1 incurred for fulfilling the supply requirement: 370038040 INR\n"
     ]
    }
   ],
   "source": [
    "#total cost of vendor-1 in all zones\n",
    "cost_v1 = []\n",
    "cost_v1.extend((cost_v1_zoneA, cost_v1_zoneB, cost_v1_zoneC))\n",
    "cost_v1 = np.sum(cost_v1)\n",
    "print('Total cost of v1 incurred for fulfilling the supply requirement: %d INR' % (cost_v1))"
   ]
  },
  {
   "cell_type": "code",
   "execution_count": 175,
   "metadata": {},
   "outputs": [],
   "source": [
    "#similar calculations for vendor-2\n",
    "v2_zoneA = v2[v2['shipment_zone'] == 'zone_a']\n",
    "v2_zoneB = v2[v2['shipment_zone'] == 'zone_b']\n",
    "v2_zoneC = v2[v2['shipment_zone'] == 'zone_c']\n",
    "\n",
    "v2_zoneA_cod = v2_zoneA[v2_zoneA['payment_option'] == 'cod']\n",
    "v2_zoneA_pre = v2_zoneA[v2_zoneA['payment_option'] == 'prepaid']\n",
    "v2_zoneB_cod = v2_zoneB[v2_zoneB['payment_option'] == 'cod']\n",
    "v2_zoneB_pre = v2_zoneB[v2_zoneB['payment_option'] == 'prepaid']\n",
    "v2_zoneC_cod = v2_zoneC[v2_zoneC['payment_option'] == 'cod']\n",
    "v2_zoneC_pre = v2_zoneC[v2_zoneC['payment_option'] == 'prepaid']"
   ]
  },
  {
   "cell_type": "code",
   "execution_count": 176,
   "metadata": {},
   "outputs": [
    {
     "name": "stdout",
     "output_type": "stream",
     "text": [
      "cost_of_v2_in_cod_zoneA: 129960\n",
      "cost_of_v2_in_pre_zoneA: 16410\n",
      "cost of v2 in zoneA: 146370\n"
     ]
    }
   ],
   "source": [
    "v2_zoneA_cod_small = v2_zoneA_cod[v2_zoneA_cod['shipment_size'] == 'small']\n",
    "v2_zoneA_cod_medium = v2_zoneA_cod[v2_zoneA_cod['shipment_size'] == 'medium']\n",
    "v2_zoneA_cod_large = v2_zoneA_cod[v2_zoneA_cod['shipment_size'] == 'large']\n",
    "v2_zoneA_pre_small = v2_zoneA_pre[v2_zoneA_pre['shipment_size'] == 'small']\n",
    "v2_zoneA_pre_medium = v2_zoneA_pre[v2_zoneA_pre['shipment_size'] == 'medium']\n",
    "v2_zoneA_pre_large = v2_zoneA_pre[v2_zoneA_pre['shipment_size'] == 'large']\n",
    "\n",
    "cost_v2_zoneA_cod_sum = []\n",
    "cost_v2_zoneA_cod_small = (v2_zoneA_cod_small['product_quantity'].sum()) * 90\n",
    "cost_v2_zoneA_cod_medium = (v2_zoneA_cod_medium['product_quantity'].sum()) * 310\n",
    "cost_v2_zoneA_cod_large = (v2_zoneA_cod_large['product_quantity'].sum()) * 780\n",
    "cost_v2_zoneA_cod_sum.extend((cost_v2_zoneA_cod_small,cost_v2_zoneA_cod_medium,cost_v2_zoneA_cod_large))\n",
    "cost_v2_zoneA_cod_sum = np.sum(cost_v2_zoneA_cod_sum)\n",
    "print('cost_of_v2_in_cod_zoneA: %d' % (cost_v2_zoneA_cod_sum))\n",
    "\n",
    "cost_v2_zoneA_pre_sum = []\n",
    "cost_v2_zoneA_pre_small = (v2_zoneA_pre_small['product_quantity'].sum()) * 30\n",
    "cost_v2_zoneA_pre_medium = (v2_zoneA_pre_medium['product_quantity'].sum()) * 260\n",
    "cost_v2_zoneA_pre_large = (v2_zoneA_pre_large['product_quantity'].sum()) * 730\n",
    "cost_v2_zoneA_pre_sum.extend((cost_v2_zoneA_pre_small,cost_v2_zoneA_pre_medium,cost_v2_zoneA_pre_large))\n",
    "cost_v2_zoneA_pre_sum = np.sum(cost_v2_zoneA_pre_sum)\n",
    "print('cost_of_v2_in_pre_zoneA: %d' % (cost_v2_zoneA_pre_sum))\n",
    "\n",
    "#cost of vendor-2 in zone-A\n",
    "cost_v2_zoneA = []\n",
    "cost_v2_zoneA.extend((cost_v2_zoneA_cod_sum, cost_v2_zoneA_pre_sum))\n",
    "cost_v2_zoneA = np.sum(cost_v2_zoneA)\n",
    "print('cost of v2 in zoneA: %d' %(cost_v2_zoneA))"
   ]
  },
  {
   "cell_type": "code",
   "execution_count": 177,
   "metadata": {},
   "outputs": [
    {
     "name": "stdout",
     "output_type": "stream",
     "text": [
      "cost_of_v2_in_cod_zoneB: 4261040\n",
      "cost_of_v2_in_pre_zoneB: 279780\n",
      "cost of v2 in zoneB: 4540820\n"
     ]
    }
   ],
   "source": [
    "v2_zoneB_cod_small = v2_zoneB_cod[v2_zoneB_cod['shipment_size'] == 'small']\n",
    "v2_zoneB_cod_medium = v2_zoneB_cod[v2_zoneB_cod['shipment_size'] == 'medium']\n",
    "v2_zoneB_cod_large = v2_zoneB_cod[v2_zoneB_cod['shipment_size'] == 'large']\n",
    "v2_zoneB_pre_small = v2_zoneB_pre[v2_zoneB_pre['shipment_size'] == 'small']\n",
    "v2_zoneB_pre_medium = v2_zoneB_pre[v2_zoneB_pre['shipment_size'] == 'medium']\n",
    "v2_zoneB_pre_large = v2_zoneB_pre[v2_zoneB_pre['shipment_size'] == 'large']\n",
    "\n",
    "cost_v2_zoneB_cod_sum = []\n",
    "cost_v2_zoneB_cod_small = (v2_zoneB_cod_small['product_quantity'].sum()) * 90\n",
    "cost_v2_zoneB_cod_medium = (v2_zoneB_cod_medium['product_quantity'].sum()) * 340\n",
    "cost_v2_zoneB_cod_large = (v2_zoneB_cod_large['product_quantity'].sum()) * 860\n",
    "cost_v2_zoneB_cod_sum.extend((cost_v2_zoneB_cod_small,cost_v2_zoneB_cod_medium,cost_v2_zoneB_cod_large))\n",
    "cost_v2_zoneB_cod_sum = np.sum(cost_v2_zoneB_cod_sum)\n",
    "print('cost_of_v2_in_cod_zoneB: %d' % (cost_v2_zoneB_cod_sum))\n",
    "\n",
    "cost_v2_zoneB_pre_sum = []\n",
    "cost_v2_zoneB_pre_small = (v2_zoneB_pre_small['product_quantity'].sum()) * 40\n",
    "cost_v2_zoneB_pre_medium = (v2_zoneB_pre_medium['product_quantity'].sum()) * 290\n",
    "cost_v2_zoneB_pre_large = (v2_zoneB_pre_large['product_quantity'].sum()) * 800\n",
    "cost_v2_zoneB_pre_sum.extend((cost_v2_zoneB_pre_small,cost_v2_zoneB_pre_medium,cost_v2_zoneB_pre_large))\n",
    "cost_v2_zoneB_pre_sum = np.sum(cost_v2_zoneB_pre_sum)\n",
    "print('cost_of_v2_in_pre_zoneB: %d' % (cost_v2_zoneB_pre_sum))\n",
    "\n",
    "#cost of vendor-2 in zone-B\n",
    "cost_v2_zoneB = []\n",
    "cost_v2_zoneB.extend((cost_v2_zoneB_cod_sum, cost_v2_zoneB_pre_sum))\n",
    "cost_v2_zoneB = np.sum(cost_v2_zoneB)\n",
    "print('cost of v2 in zoneB: %d' %(cost_v2_zoneB))"
   ]
  },
  {
   "cell_type": "code",
   "execution_count": 178,
   "metadata": {},
   "outputs": [
    {
     "name": "stdout",
     "output_type": "stream",
     "text": [
      "cost_of_v2_in_cod_zoneC: 7151120\n",
      "cost_of_v2_in_pre_zoneC: 438230\n",
      "cost of v2 in zoneC: 7589350\n"
     ]
    }
   ],
   "source": [
    "v2_zoneC_cod_small = v2_zoneC_cod[v2_zoneC_cod['shipment_size'] == 'small']\n",
    "v2_zoneC_cod_medium = v2_zoneC_cod[v2_zoneC_cod['shipment_size'] == 'medium']\n",
    "v2_zoneC_cod_large = v2_zoneC_cod[v2_zoneC_cod['shipment_size'] == 'large']\n",
    "v2_zoneC_pre_small = v2_zoneC_pre[v2_zoneC_pre['shipment_size'] == 'small']\n",
    "v2_zoneC_pre_medium = v2_zoneC_pre[v2_zoneC_pre['shipment_size'] == 'medium']\n",
    "v2_zoneC_pre_large = v2_zoneC_pre[v2_zoneC_pre['shipment_size'] == 'large']\n",
    "\n",
    "cost_v2_zoneC_cod_sum = []\n",
    "cost_v2_zoneC_cod_small = (v2_zoneC_cod_small['product_quantity'].sum()) * 120\n",
    "cost_v2_zoneC_cod_medium = (v2_zoneC_cod_medium['product_quantity'].sum()) * 560\n",
    "cost_v2_zoneC_cod_large = (v2_zoneC_cod_large['product_quantity'].sum()) * 1480\n",
    "cost_v2_zoneC_cod_sum.extend((cost_v2_zoneC_cod_small,cost_v2_zoneC_cod_medium,cost_v2_zoneC_cod_large))\n",
    "cost_v2_zoneC_cod_sum = np.sum(cost_v2_zoneC_cod_sum)\n",
    "print('cost_of_v2_in_cod_zoneC: %d' % (cost_v2_zoneC_cod_sum))\n",
    "\n",
    "cost_v2_zoneC_pre_sum = []\n",
    "cost_v2_zoneC_pre_small = (v2_zoneC_pre_small['product_quantity'].sum()) * 70\n",
    "cost_v2_zoneC_pre_medium = (v2_zoneC_pre_medium['product_quantity'].sum()) * 510\n",
    "cost_v2_zoneC_pre_large = (v2_zoneC_pre_large['product_quantity'].sum()) * 1430\n",
    "cost_v2_zoneC_pre_sum.extend((cost_v2_zoneC_pre_small,cost_v2_zoneC_pre_medium,cost_v2_zoneC_pre_large))\n",
    "cost_v2_zoneC_pre_sum = np.sum(cost_v2_zoneC_pre_sum)\n",
    "print('cost_of_v2_in_pre_zoneC: %d' % (cost_v2_zoneC_pre_sum))\n",
    "\n",
    "#cost of vendor-2 in zone-C\n",
    "cost_v2_zoneC = []\n",
    "cost_v2_zoneC.extend((cost_v2_zoneC_cod_sum, cost_v2_zoneC_pre_sum))\n",
    "cost_v2_zoneC = np.sum(cost_v2_zoneC)\n",
    "print('cost of v2 in zoneC: %d' %(cost_v2_zoneC))"
   ]
  },
  {
   "cell_type": "code",
   "execution_count": 179,
   "metadata": {},
   "outputs": [
    {
     "name": "stdout",
     "output_type": "stream",
     "text": [
      "Total cost of v2 incurred for fulfilling the supply requirement: 12276540 INR\n"
     ]
    }
   ],
   "source": [
    "#total cost of vendor-2 in all zones\n",
    "cost_v2 = []\n",
    "cost_v2.extend((cost_v2_zoneA, cost_v2_zoneB, cost_v2_zoneC))\n",
    "cost_v2 = np.sum(cost_v2)\n",
    "print('Total cost of v2 incurred for fulfilling the supply requirement: %d INR' % (cost_v2))"
   ]
  },
  {
   "cell_type": "code",
   "execution_count": 180,
   "metadata": {},
   "outputs": [],
   "source": [
    "#similar calcualtions for vendor-3\n",
    "v3_zoneA = v3[v3['shipment_zone'] == 'zone_a']\n",
    "v3_zoneB = v3[v3['shipment_zone'] == 'zone_b']\n",
    "v3_zoneC = v3[v3['shipment_zone'] == 'zone_c']\n",
    "\n",
    "v3_zoneA_cod = v3_zoneA[v3_zoneA['payment_option'] == 'cod']\n",
    "v3_zoneA_pre = v3_zoneA[v3_zoneA['payment_option'] == 'prepaid']\n",
    "v3_zoneB_cod = v3_zoneB[v3_zoneB['payment_option'] == 'cod']\n",
    "v3_zoneB_pre = v3_zoneB[v3_zoneB['payment_option'] == 'prepaid']\n",
    "v3_zoneC_cod = v3_zoneC[v3_zoneC['payment_option'] == 'cod']\n",
    "v3_zoneC_pre = v3_zoneC[v3_zoneC['payment_option'] == 'prepaid']"
   ]
  },
  {
   "cell_type": "code",
   "execution_count": 181,
   "metadata": {},
   "outputs": [
    {
     "name": "stdout",
     "output_type": "stream",
     "text": [
      "cost_of_v3_in_cod_zoneA: 56910\n",
      "cost_of_v3_in_pre_zoneA: 4980\n",
      "cost of v3 in zoneA: 61890\n"
     ]
    }
   ],
   "source": [
    "v3_zoneA_cod_small = v3_zoneA_cod[v3_zoneA_cod['shipment_size'] == 'small']\n",
    "v3_zoneA_cod_medium = v3_zoneA_cod[v3_zoneA_cod['shipment_size'] == 'medium']\n",
    "v3_zoneA_cod_large = v3_zoneA_cod[v3_zoneA_cod['shipment_size'] == 'large']\n",
    "v3_zoneA_pre_small = v3_zoneA_pre[v3_zoneA_pre['shipment_size'] == 'small']\n",
    "v3_zoneA_pre_medium = v3_zoneA_pre[v3_zoneA_pre['shipment_size'] == 'medium']\n",
    "v3_zoneA_pre_large = v3_zoneA_pre[v3_zoneA_pre['shipment_size'] == 'large']\n",
    "\n",
    "cost_v3_zoneA_cod_sum = []\n",
    "cost_v3_zoneA_cod_small = (v3_zoneA_cod_small['product_quantity'].sum()) * 50\n",
    "cost_v3_zoneA_cod_medium = (v3_zoneA_cod_medium['product_quantity'].sum()) * 160\n",
    "cost_v3_zoneA_cod_large = (v3_zoneA_cod_large['product_quantity'].sum()) * 380\n",
    "cost_v3_zoneA_cod_sum.extend((cost_v3_zoneA_cod_small,cost_v3_zoneA_cod_medium,cost_v3_zoneA_cod_large))\n",
    "cost_v3_zoneA_cod_sum = np.sum(cost_v3_zoneA_cod_sum)\n",
    "print('cost_of_v3_in_cod_zoneA: %d' % (cost_v3_zoneA_cod_sum))\n",
    "\n",
    "cost_v3_zoneA_pre_sum = []\n",
    "cost_v3_zoneA_pre_small = (v3_zoneA_pre_small['product_quantity'].sum()) * 30\n",
    "cost_v3_zoneA_pre_medium = (v3_zoneA_pre_medium['product_quantity'].sum()) * 130\n",
    "cost_v3_zoneA_pre_large = (v3_zoneA_pre_large['product_quantity'].sum()) * 360\n",
    "cost_v3_zoneA_pre_sum.extend((cost_v3_zoneA_pre_small,cost_v3_zoneA_pre_medium,cost_v3_zoneA_pre_large))\n",
    "cost_v3_zoneA_pre_sum = np.sum(cost_v3_zoneA_pre_sum)\n",
    "print('cost_of_v3_in_pre_zoneA: %d' % (cost_v3_zoneA_pre_sum))\n",
    "\n",
    "#cost of vendor-3 in zone-A\n",
    "cost_v3_zoneA = []\n",
    "cost_v3_zoneA.extend((cost_v3_zoneA_cod_sum, cost_v3_zoneA_pre_sum))\n",
    "cost_v3_zoneA = np.sum(cost_v3_zoneA)\n",
    "print('cost of v3 in zoneA: %d' %(cost_v3_zoneA))"
   ]
  },
  {
   "cell_type": "code",
   "execution_count": 182,
   "metadata": {},
   "outputs": [
    {
     "name": "stdout",
     "output_type": "stream",
     "text": [
      "cost_of_v3_in_cod_zoneB: 5013160\n",
      "cost_of_v3_in_pre_zoneB: 406550\n",
      "cost of v3 in zoneB: 5419710\n"
     ]
    }
   ],
   "source": [
    "v3_zoneB_cod_small = v3_zoneB_cod[v3_zoneB_cod['shipment_size'] == 'small']\n",
    "v3_zoneB_cod_medium = v3_zoneB_cod[v3_zoneB_cod['shipment_size'] == 'medium']\n",
    "v3_zoneB_cod_large = v3_zoneB_cod[v3_zoneB_cod['shipment_size'] == 'large']\n",
    "v3_zoneB_pre_small = v3_zoneB_pre[v3_zoneB_pre['shipment_size'] == 'small']\n",
    "v3_zoneB_pre_medium = v3_zoneB_pre[v3_zoneB_pre['shipment_size'] == 'medium']\n",
    "v3_zoneB_pre_large = v3_zoneB_pre[v3_zoneB_pre['shipment_size'] == 'large']\n",
    "\n",
    "cost_v3_zoneB_cod_sum = []\n",
    "cost_v3_zoneB_cod_small = (v3_zoneB_cod_small['product_quantity'].sum()) * 60\n",
    "cost_v3_zoneB_cod_medium = (v3_zoneB_cod_medium['product_quantity'].sum()) * 190\n",
    "cost_v3_zoneB_cod_large = (v3_zoneB_cod_large['product_quantity'].sum()) * 480\n",
    "cost_v3_zoneB_cod_sum.extend((cost_v3_zoneB_cod_small,cost_v3_zoneB_cod_medium,cost_v3_zoneB_cod_large))\n",
    "cost_v3_zoneB_cod_sum = np.sum(cost_v3_zoneB_cod_sum)\n",
    "print('cost_of_v3_in_cod_zoneB: %d' % (cost_v3_zoneB_cod_sum))\n",
    "\n",
    "cost_v3_zoneB_pre_sum = []\n",
    "cost_v3_zoneB_pre_small = (v3_zoneB_pre_small['product_quantity'].sum()) * 30\n",
    "cost_v3_zoneB_pre_medium = (v3_zoneB_pre_medium['product_quantity'].sum()) * 170\n",
    "cost_v3_zoneB_pre_large = (v3_zoneB_pre_large['product_quantity'].sum()) * 460\n",
    "cost_v3_zoneB_pre_sum.extend((cost_v3_zoneB_pre_small,cost_v3_zoneB_pre_medium,cost_v3_zoneB_pre_large))\n",
    "cost_v3_zoneB_pre_sum = np.sum(cost_v3_zoneB_pre_sum)\n",
    "print('cost_of_v3_in_pre_zoneB: %d' % (cost_v3_zoneB_pre_sum))\n",
    "\n",
    "#cost of vendor-3 in zone-B\n",
    "cost_v3_zoneB = []\n",
    "cost_v3_zoneB.extend((cost_v3_zoneB_cod_sum, cost_v3_zoneB_pre_sum))\n",
    "cost_v3_zoneB = np.sum(cost_v3_zoneB)\n",
    "print('cost of v3 in zoneB: %d' %(cost_v3_zoneB))"
   ]
  },
  {
   "cell_type": "code",
   "execution_count": 183,
   "metadata": {},
   "outputs": [
    {
     "name": "stdout",
     "output_type": "stream",
     "text": [
      "cost_of_v3_in_cod_zoneC: 6863350\n",
      "cost_of_v3_in_pre_zoneC: 370980\n",
      "cost of v3 in zoneC: 7234330\n"
     ]
    }
   ],
   "source": [
    "v3_zoneC_cod_small = v3_zoneC_cod[v3_zoneC_cod['shipment_size'] == 'small']\n",
    "v3_zoneC_cod_medium = v3_zoneC_cod[v3_zoneC_cod['shipment_size'] == 'medium']\n",
    "v3_zoneC_cod_large = v3_zoneC_cod[v3_zoneC_cod['shipment_size'] == 'large']\n",
    "v3_zoneC_pre_small = v3_zoneC_pre[v3_zoneC_pre['shipment_size'] == 'small']\n",
    "v3_zoneC_pre_medium = v3_zoneC_pre[v3_zoneC_pre['shipment_size'] == 'medium']\n",
    "v3_zoneC_pre_large = v3_zoneC_pre[v3_zoneC_pre['shipment_size'] == 'large']\n",
    "\n",
    "cost_v3_zoneC_cod_sum = []\n",
    "cost_v3_zoneC_cod_small = (v3_zoneC_cod_small['product_quantity'].sum()) * 80\n",
    "cost_v3_zoneC_cod_medium = (v3_zoneC_cod_medium['product_quantity'].sum()) * 410\n",
    "cost_v3_zoneC_cod_large = (v3_zoneC_cod_large['product_quantity'].sum()) * 1100\n",
    "cost_v3_zoneC_cod_sum.extend((cost_v3_zoneC_cod_small,cost_v3_zoneC_cod_medium,cost_v3_zoneC_cod_large))\n",
    "cost_v3_zoneC_cod_sum = np.sum(cost_v3_zoneC_cod_sum)\n",
    "print('cost_of_v3_in_cod_zoneC: %d' % (cost_v3_zoneC_cod_sum))\n",
    "\n",
    "cost_v3_zoneC_pre_sum = []\n",
    "cost_v3_zoneC_pre_small = (v3_zoneC_pre_small['product_quantity'].sum()) * 60\n",
    "cost_v3_zoneC_pre_medium = (v3_zoneC_pre_medium['product_quantity'].sum()) * 380\n",
    "cost_v3_zoneC_pre_large = (v3_zoneC_pre_large['product_quantity'].sum()) * 1040\n",
    "cost_v3_zoneC_pre_sum.extend((cost_v3_zoneC_pre_small,cost_v3_zoneC_pre_medium,cost_v3_zoneC_pre_large))\n",
    "cost_v3_zoneC_pre_sum = np.sum(cost_v3_zoneC_pre_sum)\n",
    "print('cost_of_v3_in_pre_zoneC: %d' % (cost_v3_zoneC_pre_sum))\n",
    "\n",
    "#cost of vendor-3 in zone-C\n",
    "cost_v3_zoneC = []\n",
    "cost_v3_zoneC.extend((cost_v3_zoneC_cod_sum, cost_v3_zoneC_pre_sum))\n",
    "cost_v3_zoneC = np.sum(cost_v3_zoneC)\n",
    "print('cost of v3 in zoneC: %d' %(cost_v3_zoneC))"
   ]
  },
  {
   "cell_type": "code",
   "execution_count": 184,
   "metadata": {},
   "outputs": [
    {
     "name": "stdout",
     "output_type": "stream",
     "text": [
      "Total cost of v3 incurred for fulfilling the supply requirement: 12715930 INR\n"
     ]
    }
   ],
   "source": [
    "#total cost of vendor-3 in all zones\n",
    "cost_v3 = []\n",
    "cost_v3.extend((cost_v3_zoneA, cost_v3_zoneB, cost_v3_zoneC))\n",
    "cost_v3 = np.sum(cost_v3)\n",
    "print('Total cost of v3 incurred for fulfilling the supply requirement: %d INR' % (cost_v3))"
   ]
  },
  {
   "cell_type": "code",
   "execution_count": 185,
   "metadata": {},
   "outputs": [],
   "source": [
    "#similar calculations for vendor-4\n",
    "v4_zoneA = v4[v4['shipment_zone'] == 'zone_a']\n",
    "v4_zoneB = v4[v4['shipment_zone'] == 'zone_b']\n",
    "v4_zoneC = v4[v4['shipment_zone'] == 'zone_c']\n",
    "\n",
    "v4_zoneA_cod = v4_zoneA[v4_zoneA['payment_option'] == 'cod']\n",
    "v4_zoneA_pre = v4_zoneA[v4_zoneA['payment_option'] == 'prepaid']\n",
    "v4_zoneB_cod = v4_zoneB[v4_zoneB['payment_option'] == 'cod']\n",
    "v4_zoneB_pre = v4_zoneB[v4_zoneB['payment_option'] == 'prepaid']\n",
    "v4_zoneC_cod = v4_zoneC[v4_zoneC['payment_option'] == 'cod']\n",
    "v4_zoneC_pre = v4_zoneC[v4_zoneC['payment_option'] == 'prepaid']"
   ]
  },
  {
   "cell_type": "code",
   "execution_count": 186,
   "metadata": {},
   "outputs": [
    {
     "name": "stdout",
     "output_type": "stream",
     "text": [
      "cost_of_v4_in_cod_zoneA: 155730\n",
      "cost_of_v4_in_pre_zoneA: 14370\n",
      "cost of v4 in zoneA: 170100\n"
     ]
    }
   ],
   "source": [
    "v4_zoneA_cod_small = v4_zoneA_cod[v4_zoneA_cod['shipment_size'] == 'small']\n",
    "v4_zoneA_cod_medium = v4_zoneA_cod[v4_zoneA_cod['shipment_size'] == 'medium']\n",
    "v4_zoneA_cod_large = v4_zoneA_cod[v4_zoneA_cod['shipment_size'] == 'large']\n",
    "v4_zoneA_pre_small = v4_zoneA_pre[v4_zoneA_pre['shipment_size'] == 'small']\n",
    "v4_zoneA_pre_medium = v4_zoneA_pre[v4_zoneA_pre['shipment_size'] == 'medium']\n",
    "v4_zoneA_pre_large = v4_zoneA_pre[v4_zoneA_pre['shipment_size'] == 'large']\n",
    "\n",
    "cost_v4_zoneA_cod_sum = []\n",
    "cost_v4_zoneA_cod_small = (v4_zoneA_cod_small['product_quantity'].sum()) * 60\n",
    "cost_v4_zoneA_cod_medium = (v4_zoneA_cod_medium['product_quantity'].sum()) * 270\n",
    "cost_v4_zoneA_cod_large = (v4_zoneA_cod_large['product_quantity'].sum()) * 710\n",
    "cost_v4_zoneA_cod_sum.extend((cost_v4_zoneA_cod_small,cost_v4_zoneA_cod_medium,cost_v4_zoneA_cod_large))\n",
    "cost_v4_zoneA_cod_sum = np.sum(cost_v4_zoneA_cod_sum)\n",
    "print('cost_of_v4_in_cod_zoneA: %d' % (cost_v4_zoneA_cod_sum))\n",
    "\n",
    "cost_v4_zoneA_pre_sum = []\n",
    "cost_v4_zoneA_pre_small = (v4_zoneA_pre_small['product_quantity'].sum()) * 30\n",
    "cost_v4_zoneA_pre_medium = (v4_zoneA_pre_medium['product_quantity'].sum()) * 240\n",
    "cost_v4_zoneA_pre_large = (v4_zoneA_pre_large['product_quantity'].sum()) * 680\n",
    "cost_v4_zoneA_pre_sum.extend((cost_v4_zoneA_pre_small,cost_v4_zoneA_pre_medium,cost_v4_zoneA_pre_large))\n",
    "cost_v4_zoneA_pre_sum = np.sum(cost_v4_zoneA_pre_sum)\n",
    "print('cost_of_v4_in_pre_zoneA: %d' % (cost_v4_zoneA_pre_sum))\n",
    "\n",
    "#cost of vendor-4 in zone-A\n",
    "cost_v4_zoneA = []\n",
    "cost_v4_zoneA.extend((cost_v4_zoneA_cod_sum, cost_v4_zoneA_pre_sum))\n",
    "cost_v4_zoneA = np.sum(cost_v4_zoneA)\n",
    "print('cost of v4 in zoneA: %d' %(cost_v4_zoneA))"
   ]
  },
  {
   "cell_type": "code",
   "execution_count": 187,
   "metadata": {},
   "outputs": [
    {
     "name": "stdout",
     "output_type": "stream",
     "text": [
      "cost_of_v4_in_cod_zoneB: 8448270\n",
      "cost_of_v4_in_pre_zoneB: 1097930\n",
      "cost of v4 in zoneB: 9546200\n"
     ]
    }
   ],
   "source": [
    "v4_zoneB_cod_small = v4_zoneB_cod[v4_zoneB_cod['shipment_size'] == 'small']\n",
    "v4_zoneB_cod_medium = v4_zoneB_cod[v4_zoneB_cod['shipment_size'] == 'medium']\n",
    "v4_zoneB_cod_large = v4_zoneB_cod[v4_zoneB_cod['shipment_size'] == 'large']\n",
    "v4_zoneB_pre_small = v4_zoneB_pre[v4_zoneB_pre['shipment_size'] == 'small']\n",
    "v4_zoneB_pre_medium = v4_zoneB_pre[v4_zoneB_pre['shipment_size'] == 'medium']\n",
    "v4_zoneB_pre_large = v4_zoneB_pre[v4_zoneB_pre['shipment_size'] == 'large']\n",
    "\n",
    "cost_v4_zoneB_cod_sum = []\n",
    "cost_v4_zoneB_cod_small = (v4_zoneB_cod_small['product_quantity'].sum()) * 70\n",
    "cost_v4_zoneB_cod_medium = (v4_zoneB_cod_medium['product_quantity'].sum()) * 320\n",
    "cost_v4_zoneB_cod_large = (v4_zoneB_cod_large['product_quantity'].sum()) * 850\n",
    "cost_v4_zoneB_cod_sum.extend((cost_v4_zoneB_cod_small,cost_v4_zoneB_cod_medium,cost_v4_zoneB_cod_large))\n",
    "cost_v4_zoneB_cod_sum = np.sum(cost_v4_zoneB_cod_sum)\n",
    "print('cost_of_v4_in_cod_zoneB: %d' % (cost_v4_zoneB_cod_sum))\n",
    "\n",
    "cost_v4_zoneB_pre_sum = []\n",
    "cost_v4_zoneB_pre_small = (v4_zoneB_pre_small['product_quantity'].sum()) * 40\n",
    "cost_v4_zoneB_pre_medium = (v4_zoneB_pre_medium['product_quantity'].sum()) * 290\n",
    "cost_v4_zoneB_pre_large = (v4_zoneB_pre_large['product_quantity'].sum()) * 810\n",
    "cost_v4_zoneB_pre_sum.extend((cost_v4_zoneB_pre_small,cost_v4_zoneB_pre_medium,cost_v4_zoneB_pre_large))\n",
    "cost_v4_zoneB_pre_sum = np.sum(cost_v4_zoneB_pre_sum)\n",
    "print('cost_of_v4_in_pre_zoneB: %d' % (cost_v4_zoneB_pre_sum))\n",
    "\n",
    "#cost of vendor-4 in zone-B\n",
    "cost_v4_zoneB = []\n",
    "cost_v4_zoneB.extend((cost_v4_zoneB_cod_sum, cost_v4_zoneB_pre_sum))\n",
    "cost_v4_zoneB = np.sum(cost_v4_zoneB)\n",
    "print('cost of v4 in zoneB: %d' %(cost_v4_zoneB))"
   ]
  },
  {
   "cell_type": "code",
   "execution_count": 188,
   "metadata": {},
   "outputs": [
    {
     "name": "stdout",
     "output_type": "stream",
     "text": [
      "cost_of_v4_in_cod_zoneC: 9375840\n",
      "cost_of_v4_in_pre_zoneC: 907240\n",
      "cost of v4 in zoneC: 10283080\n"
     ]
    }
   ],
   "source": [
    "v4_zoneC_cod_small = v4_zoneC_cod[v4_zoneC_cod['shipment_size'] == 'small']\n",
    "v4_zoneC_cod_medium = v4_zoneC_cod[v4_zoneC_cod['shipment_size'] == 'medium']\n",
    "v4_zoneC_cod_large = v4_zoneC_cod[v4_zoneC_cod['shipment_size'] == 'large']\n",
    "v4_zoneC_pre_small = v4_zoneC_pre[v4_zoneC_pre['shipment_size'] == 'small']\n",
    "v4_zoneC_pre_medium = v4_zoneC_pre[v4_zoneC_pre['shipment_size'] == 'medium']\n",
    "v4_zoneC_pre_large = v4_zoneC_pre[v4_zoneC_pre['shipment_size'] == 'large']\n",
    "\n",
    "cost_v4_zoneC_cod_sum = []\n",
    "cost_v4_zoneC_cod_small = (v4_zoneC_cod_small['product_quantity'].sum()) * 80\n",
    "cost_v4_zoneC_cod_medium = (v4_zoneC_cod_medium['product_quantity'].sum()) * 410\n",
    "cost_v4_zoneC_cod_large = (v4_zoneC_cod_large['product_quantity'].sum()) * 1080\n",
    "cost_v4_zoneC_cod_sum.extend((cost_v4_zoneC_cod_small,cost_v4_zoneC_cod_medium,cost_v4_zoneC_cod_large))\n",
    "cost_v4_zoneC_cod_sum = np.sum(cost_v4_zoneC_cod_sum)\n",
    "print('cost_of_v4_in_cod_zoneC: %d' % (cost_v4_zoneC_cod_sum))\n",
    "\n",
    "cost_v4_zoneC_pre_sum = []\n",
    "cost_v4_zoneC_pre_small = (v4_zoneC_pre_small['product_quantity'].sum()) * 50\n",
    "cost_v4_zoneC_pre_medium = (v4_zoneC_pre_medium['product_quantity'].sum()) * 370\n",
    "cost_v4_zoneC_pre_large = (v4_zoneC_pre_large['product_quantity'].sum()) * 1050\n",
    "cost_v4_zoneC_pre_sum.extend((cost_v4_zoneC_pre_small,cost_v4_zoneC_pre_medium,cost_v4_zoneC_pre_large))\n",
    "cost_v4_zoneC_pre_sum = np.sum(cost_v4_zoneC_pre_sum)\n",
    "print('cost_of_v4_in_pre_zoneC: %d' % (cost_v4_zoneC_pre_sum))\n",
    "\n",
    "#cost of vendor-4 in zone-C\n",
    "cost_v4_zoneC = []\n",
    "cost_v4_zoneC.extend((cost_v4_zoneC_cod_sum, cost_v4_zoneC_pre_sum))\n",
    "cost_v4_zoneC = np.sum(cost_v4_zoneC)\n",
    "print('cost of v4 in zoneC: %d' %(cost_v4_zoneC))"
   ]
  },
  {
   "cell_type": "code",
   "execution_count": 189,
   "metadata": {},
   "outputs": [
    {
     "name": "stdout",
     "output_type": "stream",
     "text": [
      "Total cost of v4 incurred for fulfilling the supply requirement: 19999380 INR\n"
     ]
    }
   ],
   "source": [
    "#total cost of vendor-4 in all zones\n",
    "cost_v4 = []\n",
    "cost_v4.extend((cost_v4_zoneA, cost_v4_zoneB, cost_v4_zoneC))\n",
    "cost_v4 = np.sum(cost_v4)\n",
    "print('Total cost of v4 incurred for fulfilling the supply requirement: %d INR' % (cost_v4))"
   ]
  },
  {
   "cell_type": "code",
   "execution_count": 190,
   "metadata": {},
   "outputs": [
    {
     "data": {
      "text/html": [
       "<div>\n",
       "<style scoped>\n",
       "    .dataframe tbody tr th:only-of-type {\n",
       "        vertical-align: middle;\n",
       "    }\n",
       "\n",
       "    .dataframe tbody tr th {\n",
       "        vertical-align: top;\n",
       "    }\n",
       "\n",
       "    .dataframe thead th {\n",
       "        text-align: right;\n",
       "    }\n",
       "</style>\n",
       "<table border=\"1\" class=\"dataframe\">\n",
       "  <thead>\n",
       "    <tr style=\"text-align: right;\">\n",
       "      <th></th>\n",
       "      <th>vendors</th>\n",
       "      <th>vendors_cost</th>\n",
       "    </tr>\n",
       "  </thead>\n",
       "  <tbody>\n",
       "    <tr>\n",
       "      <th>0</th>\n",
       "      <td>vendor1</td>\n",
       "      <td>370038040.0</td>\n",
       "    </tr>\n",
       "    <tr>\n",
       "      <th>1</th>\n",
       "      <td>vendor2</td>\n",
       "      <td>12276540.0</td>\n",
       "    </tr>\n",
       "    <tr>\n",
       "      <th>2</th>\n",
       "      <td>vendor3</td>\n",
       "      <td>12715930.0</td>\n",
       "    </tr>\n",
       "    <tr>\n",
       "      <th>3</th>\n",
       "      <td>vendor4</td>\n",
       "      <td>19999380.0</td>\n",
       "    </tr>\n",
       "    <tr>\n",
       "      <th>4</th>\n",
       "      <td>Total</td>\n",
       "      <td>415029890.0</td>\n",
       "    </tr>\n",
       "  </tbody>\n",
       "</table>\n",
       "</div>"
      ],
      "text/plain": [
       "   vendors  vendors_cost\n",
       "0  vendor1   370038040.0\n",
       "1  vendor2    12276540.0\n",
       "2  vendor3    12715930.0\n",
       "3  vendor4    19999380.0\n",
       "4    Total   415029890.0"
      ]
     },
     "execution_count": 190,
     "metadata": {},
     "output_type": "execute_result"
    }
   ],
   "source": [
    "#vendor wise cost and total cost\n",
    "cost_ = [cost_v1, cost_v2, cost_v3, cost_v4]\n",
    "vendors_cost = pd.DataFrame(cost_)\n",
    "vendor = ['vendor1', 'vendor2', 'vendor3', 'vendor4', 'Total']\n",
    "vendors = pd.DataFrame(vendor)\n",
    "cost = pd.concat([vendors, vendors_cost], axis = 1)\n",
    "cost.columns = ['vendors', 'vendors_cost']\n",
    "cost['vendors_cost'].iloc[4] = np.sum(cost_)\n",
    "cost"
   ]
  },
  {
   "cell_type": "code",
   "execution_count": 191,
   "metadata": {},
   "outputs": [
    {
     "name": "stdout",
     "output_type": "stream",
     "text": [
      "Total cost in zone A incurred for fulfilling the supply requirement: 41582530 INR\n"
     ]
    }
   ],
   "source": [
    "#total actual cost in zone-A\n",
    "cost_zoneA = []\n",
    "cost_zoneA.extend((cost_v4_zoneA, cost_v3_zoneA, cost_v2_zoneA, cost_v1_zoneA))\n",
    "cost_zoneA = np.sum(cost_zoneA)\n",
    "print('Total cost in zone A incurred for fulfilling the supply requirement: %d INR' % (cost_zoneA))"
   ]
  },
  {
   "cell_type": "code",
   "execution_count": 192,
   "metadata": {},
   "outputs": [
    {
     "name": "stdout",
     "output_type": "stream",
     "text": [
      "Total cost in zone B incurred for fulfilling the supply requirement: 141524700 INR\n"
     ]
    }
   ],
   "source": [
    "#total actual cost in zone-B\n",
    "cost_zoneB = []\n",
    "cost_zoneB.extend((cost_v4_zoneB, cost_v3_zoneB, cost_v2_zoneB, cost_v1_zoneB))\n",
    "cost_zoneB = np.sum(cost_zoneB)\n",
    "print('Total cost in zone B incurred for fulfilling the supply requirement: %d INR' % (cost_zoneB))"
   ]
  },
  {
   "cell_type": "code",
   "execution_count": 193,
   "metadata": {},
   "outputs": [
    {
     "name": "stdout",
     "output_type": "stream",
     "text": [
      "Total cost in zone C incurred for fulfilling the supply requirement: 231922660 INR\n"
     ]
    }
   ],
   "source": [
    "#total actual cost in zone-C\n",
    "cost_zoneC = []\n",
    "cost_zoneC.extend((cost_v4_zoneC, cost_v3_zoneC, cost_v2_zoneC, cost_v1_zoneC))\n",
    "cost_zoneC = np.sum(cost_zoneC)\n",
    "print('Total cost in zone C incurred for fulfilling the supply requirement: %d INR' % (cost_zoneC))"
   ]
  },
  {
   "cell_type": "code",
   "execution_count": 194,
   "metadata": {},
   "outputs": [
    {
     "name": "stdout",
     "output_type": "stream",
     "text": [
      "Actual total cost in all zones incurred for fulfilling the supply requirement: 415029890 INR\n"
     ]
    }
   ],
   "source": [
    "#total actual cost in all zones\n",
    "actual_cost_zones = []\n",
    "actual_cost_zones.extend((cost_zoneA, cost_zoneB, cost_zoneC))\n",
    "actual_cost_zones = np.sum(actual_cost_zones)\n",
    "print('Actual total cost in all zones incurred for fulfilling the supply requirement: %d INR' % (actual_cost_zones))"
   ]
  },
  {
   "cell_type": "markdown",
   "metadata": {},
   "source": [
    "##### Q3. What is the least cost that will be incurred to fulfill this supply network?"
   ]
  },
  {
   "cell_type": "code",
   "execution_count": 195,
   "metadata": {},
   "outputs": [
    {
     "name": "stdout",
     "output_type": "stream",
     "text": [
      "cost of v3 in zoneA in cod: 15907950\n",
      "cost of v3 in zoneA in prepaid: 9899510\n",
      "cost of v3 in zoneA: 25807460\n"
     ]
    }
   ],
   "source": [
    "#calculation to get the least cost (vendor-3 in zone-A)\n",
    "v3_zone_A = shipment_wise[shipment_wise['shipment_zone'] == 'zone_a']\n",
    "v3_zoneA_cod = v3_zone_A[v3_zone_A['payment_option'] == 'cod']\n",
    "v3_zoneA_cod_large = v3_zoneA_cod[v3_zoneA_cod['shipment_size'] == 'large']\n",
    "v3_zoneA_cod_medium = v3_zoneA_cod[v3_zoneA_cod['shipment_size'] == 'medium']\n",
    "v3_zoneA_cod_small = v3_zoneA_cod[v3_zoneA_cod['shipment_size'] == 'small']\n",
    "v3_zoneA_cod_large_cost = v3_zoneA_cod_large['product_quantity'].sum() * 380\n",
    "v3_zoneA_cod_medium_cost = (v3_zoneA_cod_medium['product_quantity']).sum() * 160\n",
    "v3_zoneA_cod_small_cost = (v3_zoneA_cod_small['product_quantity']).sum() * 15\n",
    "\n",
    "v3_zoneA_pre = v3_zone_A[v3_zone_A['payment_option'] == 'prepaid']\n",
    "v3_zoneA_pre_large = v3_zoneA_pre[v3_zoneA_pre['shipment_size'] == 'large']\n",
    "v3_zoneA_pre_medium = v3_zoneA_pre[v3_zoneA_pre['shipment_size'] == 'medium']\n",
    "v3_zoneA_pre_small = v3_zoneA_pre[v3_zoneA_pre['shipment_size'] == 'small']\n",
    "v3_zoneA_pre_large_cost = v3_zoneA_pre_large['product_quantity'].sum() * 360\n",
    "v3_zoneA_pre_medium_cost = (v3_zoneA_pre_medium['product_quantity']).sum() * 130\n",
    "v3_zoneA_pre_small_cost = (v3_zoneA_pre_small['product_quantity']).sum() * 30\n",
    "\n",
    "cost_v3_zoneA_cod = []\n",
    "cost_v3_zoneA_cod.extend((v3_zoneA_cod_large_cost, v3_zoneA_cod_medium_cost, v3_zoneA_cod_small_cost))\n",
    "cost_v3_zoneA_cod = np.sum(cost_v3_zoneA_cod)\n",
    "print('cost of v3 in zoneA in cod: %d' %(cost_v3_zoneA_cod))\n",
    "\n",
    "cost_v3_zoneA_pre = []\n",
    "cost_v3_zoneA_pre.extend((v3_zoneA_pre_large_cost, v3_zoneA_pre_medium_cost, v3_zoneA_pre_small_cost))\n",
    "cost_v3_zoneA_pre = np.sum(cost_v3_zoneA_pre)\n",
    "print('cost of v3 in zoneA in prepaid: %d' %(cost_v3_zoneA_pre))\n",
    "\n",
    "cost_v3_zoneA = []\n",
    "cost_v3_zoneA.extend((cost_v3_zoneA_pre, cost_v3_zoneA_cod))\n",
    "cost_v3_zoneA = np.sum(cost_v3_zoneA)\n",
    "print('cost of v3 in zoneA: %d' %(cost_v3_zoneA))"
   ]
  },
  {
   "cell_type": "code",
   "execution_count": 196,
   "metadata": {},
   "outputs": [
    {
     "name": "stdout",
     "output_type": "stream",
     "text": [
      "cost of v3 in zoneB in cod: 97503110\n",
      "cost of v3 in zoneB in prepaid: 17517310\n",
      "cost of v3 in zoneB: 115020420\n"
     ]
    }
   ],
   "source": [
    "#least cost in zone-B\n",
    "v3_zone_B = shipment_wise[shipment_wise['shipment_zone'] == 'zone_b']\n",
    "v3_zoneB_cod = v3_zone_B[v3_zone_B['payment_option'] == 'cod']\n",
    "v3_zoneB_cod_large = v3_zoneB_cod[v3_zoneB_cod['shipment_size'] == 'large']\n",
    "v3_zoneB_cod_medium = v3_zoneB_cod[v3_zoneB_cod['shipment_size'] == 'medium']\n",
    "v3_zoneB_cod_small = v3_zoneB_cod[v3_zoneB_cod['shipment_size'] == 'small']\n",
    "v3_zoneB_cod_large_cost = v3_zoneB_cod_large['product_quantity'].sum() * 480\n",
    "v3_zoneB_cod_medium_cost = (v3_zoneB_cod_medium['product_quantity']).sum() * 190\n",
    "v3_zoneB_cod_small_cost = (v3_zoneB_cod_small['product_quantity']).sum() * 60\n",
    "\n",
    "v3_zoneB_pre = v3_zone_B[v3_zone_B['payment_option'] == 'prepaid']\n",
    "v3_zoneB_pre_large = v3_zoneB_pre[v3_zoneB_pre['shipment_size'] == 'large']\n",
    "v3_zoneB_pre_medium = v3_zoneB_pre[v3_zoneB_pre['shipment_size'] == 'medium']\n",
    "v3_zoneB_pre_small = v3_zoneB_pre[v3_zoneB_pre['shipment_size'] == 'small']\n",
    "v3_zoneB_pre_large_cost = v3_zoneB_pre_large['product_quantity'].sum() * 460\n",
    "v3_zoneB_pre_medium_cost = (v3_zoneB_pre_medium['product_quantity']).sum() * 170\n",
    "v3_zoneB_pre_small_cost = (v3_zoneB_pre_small['product_quantity']).sum() * 30\n",
    "\n",
    "cost_v3_zoneB_cod = []\n",
    "cost_v3_zoneB_cod.extend((v3_zoneB_cod_large_cost, v3_zoneB_cod_medium_cost, v3_zoneB_cod_small_cost))\n",
    "cost_v3_zoneB_cod = np.sum(cost_v3_zoneB_cod)\n",
    "print('cost of v3 in zoneB in cod: %d' %(cost_v3_zoneB_cod))\n",
    "\n",
    "cost_v3_zoneB_pre = []\n",
    "cost_v3_zoneB_pre.extend((v3_zoneB_pre_large_cost, v3_zoneB_pre_medium_cost, v3_zoneB_pre_small_cost))\n",
    "cost_v3_zoneB_pre = np.sum(cost_v3_zoneB_pre)\n",
    "print('cost of v3 in zoneB in prepaid: %d' %(cost_v3_zoneB_pre))\n",
    "\n",
    "cost_v3_zoneB = []\n",
    "cost_v3_zoneB.extend((cost_v3_zoneB_pre, cost_v3_zoneB_cod))\n",
    "cost_v3_zoneB = np.sum(cost_v3_zoneB)\n",
    "print('cost of v3 in zoneB: %d' %(cost_v3_zoneB))"
   ]
  },
  {
   "cell_type": "code",
   "execution_count": 197,
   "metadata": {},
   "outputs": [
    {
     "name": "stdout",
     "output_type": "stream",
     "text": [
      "cost of v4 in zoneC in cod: 169528120\n",
      "cost of v3 & v4 in zoneC in prepaid: 1803720\n",
      "cost of v3 & v4 in zoneC: 171331840\n"
     ]
    }
   ],
   "source": [
    "#least cost in zone-C\n",
    "v4_zone_C = shipment_wise[shipment_wise['shipment_zone'] == 'zone_c']\n",
    "v4_zoneC_cod = v4_zone_C[v4_zone_C['payment_option'] == 'cod']\n",
    "v4_zoneC_cod_large = v4_zoneC_cod[v4_zoneC_cod['shipment_size'] == 'large']\n",
    "v4_zoneC_cod_medium = v4_zoneC_cod[v4_zoneC_cod['shipment_size'] == 'medium']\n",
    "v4_zoneC_cod_small = v4_zoneC_cod[v4_zoneC_cod['shipment_size'] == 'small']\n",
    "v4_zoneC_cod_large_cost = v4_zoneC_cod_large['product_quantity'].sum() * 1080\n",
    "v4_zoneC_cod_medium_cost = (v4_zoneC_cod_medium['product_quantity']).sum() * 410\n",
    "v4_zoneC_cod_small_cost = (v4_zoneC_cod_small['product_quantity']).sum() * 80\n",
    "\n",
    "v3_zone_C = shipment_wise[shipment_wise['shipment_zone'] == 'zone_c']\n",
    "v3_zoneC_pre = v3_zone_C[v3_zone_C['payment_option'] == 'prepaid']\n",
    "v4_zoneC_cod = v4_zone_C[v4_zone_C['payment_option'] == 'prepaid']\n",
    "v3_zoneC_pre_large = v3_zoneC_pre[v3_zoneC_pre['shipment_size'] == 'large']\n",
    "v4_zoneC_pre_medium = v4_zoneC_pre[v4_zoneC_pre['shipment_size'] == 'medium']\n",
    "v4_zoneC_pre_small = v4_zoneC_pre[v4_zoneC_pre['shipment_size'] == 'small']\n",
    "v3_zoneC_pre_large_cost = v3_zoneC_pre_large['product_quantity'].sum() * 1040\n",
    "v4_zoneC_pre_medium_cost = (v4_zoneC_pre_medium['product_quantity']).sum() * 370\n",
    "v4_zoneC_pre_small_cost = (v4_zoneC_pre_small['product_quantity']).sum() * 50\n",
    "\n",
    "cost_v4_zoneC_cod = []\n",
    "cost_v4_zoneC_cod.extend((v4_zoneC_cod_large_cost, v4_zoneC_cod_medium_cost, v4_zoneC_cod_small_cost))\n",
    "cost_v4_zoneC_cod = np.sum(cost_v4_zoneC_cod)\n",
    "print('cost of v4 in zoneC in cod: %d' %(cost_v4_zoneC_cod))\n",
    "\n",
    "cost_v3_v4_zoneC_pre = []\n",
    "cost_v3_v4_zoneC_pre.extend((v3_zoneC_pre_large_cost, v4_zoneC_pre_medium_cost, v4_zoneC_pre_small_cost))\n",
    "cost_v3_v4_zoneC_pre = np.sum(cost_v3_v4_zoneC_pre)\n",
    "print('cost of v3 & v4 in zoneC in prepaid: %d' %(cost_v3_v4_zoneC_pre))\n",
    "\n",
    "cost_v3_v4_zoneC = []\n",
    "cost_v3_v4_zoneC.extend((cost_v3_v4_zoneC_pre, cost_v4_zoneC_cod))\n",
    "cost_v3_v4_zoneC = np.sum(cost_v3_v4_zoneC)\n",
    "print('cost of v3 & v4 in zoneC: %d' %(cost_v3_v4_zoneC))"
   ]
  },
  {
   "cell_type": "code",
   "execution_count": 198,
   "metadata": {},
   "outputs": [
    {
     "name": "stdout",
     "output_type": "stream",
     "text": [
      "Least cost incurred to fulfill the supply requirement: 312159720\n"
     ]
    }
   ],
   "source": [
    "#total least cost in all zones\n",
    "least_cost_zones = []\n",
    "least_cost_zones.extend((cost_v3_v4_zoneC, cost_v3_zoneB, cost_v3_zoneA ))\n",
    "least_cost_zones = np.sum(least_cost_zones)\n",
    "print('Least cost incurred to fulfill the supply requirement: %d' %(least_cost_zones))"
   ]
  },
  {
   "cell_type": "markdown",
   "metadata": {},
   "source": [
    "##### Q4. How much cost savings can be done if we choose the least cost to fulfill this network? "
   ]
  },
  {
   "cell_type": "code",
   "execution_count": 199,
   "metadata": {},
   "outputs": [
    {
     "name": "stdout",
     "output_type": "stream",
     "text": [
      "Total savings: 102870170 INR\n"
     ]
    }
   ],
   "source": [
    "saving = actual_cost_zones - least_cost_zones\n",
    "print('Total savings: %d INR' % (saving))"
   ]
  },
  {
   "cell_type": "markdown",
   "metadata": {},
   "source": [
    "##### Bonus Questions:"
   ]
  },
  {
   "cell_type": "markdown",
   "metadata": {},
   "source": [
    "##### Q5: What is the zone wise total saving?"
   ]
  },
  {
   "cell_type": "code",
   "execution_count": 200,
   "metadata": {},
   "outputs": [
    {
     "name": "stdout",
     "output_type": "stream",
     "text": [
      "Total saving in zone-A: 15775070\n",
      "Total saving in zone-B: 26504280\n",
      "Total saving in zone-C: 224688330\n"
     ]
    }
   ],
   "source": [
    "print('Total saving in zone-A: %d' % (cost_zoneA - cost_v3_zoneA))\n",
    "print('Total saving in zone-B: %d' % (cost_zoneB - cost_v3_zoneB))\n",
    "print('Total saving in zone-C: %d' % (cost_zoneC - cost_v3_zoneC))"
   ]
  },
  {
   "cell_type": "markdown",
   "metadata": {},
   "source": [
    "##### Q6: Who is the busiest zone?"
   ]
  },
  {
   "cell_type": "code",
   "execution_count": 201,
   "metadata": {},
   "outputs": [
    {
     "data": {
      "text/plain": [
       "zone_c    52211\n",
       "zone_b    35563\n",
       "zone_a     5077\n",
       "Name: shipment_zone, dtype: int64"
      ]
     },
     "execution_count": 201,
     "metadata": {},
     "output_type": "execute_result"
    }
   ],
   "source": [
    "supply_network['shipment_zone'].value_counts()"
   ]
  },
  {
   "cell_type": "code",
   "execution_count": 202,
   "metadata": {},
   "outputs": [
    {
     "name": "stdout",
     "output_type": "stream",
     "text": [
      "Busiest zone is zone_c with so much traffic\n"
     ]
    }
   ],
   "source": [
    "print('Busiest zone is zone_c with so much traffic')"
   ]
  },
  {
   "cell_type": "markdown",
   "metadata": {},
   "source": [
    "##### Q7: Who is the costly vendor?"
   ]
  },
  {
   "cell_type": "code",
   "execution_count": 203,
   "metadata": {},
   "outputs": [
    {
     "name": "stdout",
     "output_type": "stream",
     "text": [
      "most costly vendor is v2 with supplying cost in all zones 8790 INR\n"
     ]
    }
   ],
   "source": [
    "print('most costly vendor is v2 with supplying cost in all zones %d INR' % (cost_data['cost_with_vendor_v2'].sum()))"
   ]
  },
  {
   "cell_type": "markdown",
   "metadata": {},
   "source": [
    "##### Q8: Who is the economical vendor?"
   ]
  },
  {
   "cell_type": "code",
   "execution_count": 204,
   "metadata": {},
   "outputs": [
    {
     "name": "stdout",
     "output_type": "stream",
     "text": [
      "most economical vendor is v3 with supplying cost in all zones 5570 INR\n"
     ]
    }
   ],
   "source": [
    "print('most economical vendor is v3 with supplying cost in all zones %d INR' % (cost_data['cost_with_vendor_v3'].sum()))"
   ]
  },
  {
   "cell_type": "markdown",
   "metadata": {},
   "source": [
    "##### Q9: Which is the busiest and laziest supplier_location?"
   ]
  },
  {
   "cell_type": "code",
   "execution_count": 205,
   "metadata": {},
   "outputs": [
    {
     "data": {
      "text/plain": [
       "facility_04    18.19\n",
       "facility_08    17.06\n",
       "facility_01    13.53\n",
       "facility_07    13.26\n",
       "facility_06    11.61\n",
       "facility_05     8.73\n",
       "facility_09     8.04\n",
       "facility_02     3.83\n",
       "facility_03     3.39\n",
       "facility_10     2.34\n",
       "Name: supplier_location, dtype: float64"
      ]
     },
     "execution_count": 205,
     "metadata": {},
     "output_type": "execute_result"
    }
   ],
   "source": [
    "x = supply_network['supplier_location'].value_counts()\n",
    "round((x/x.sum()) * 100 , 2)"
   ]
  },
  {
   "cell_type": "raw",
   "metadata": {},
   "source": [
    "Maximum 18.19% of total supplies happend at facility_04 and minimum 2.34% of total supplies happend at facility_10"
   ]
  },
  {
   "cell_type": "markdown",
   "metadata": {},
   "source": [
    "##### Q10: Which is the most preferable payment_option?"
   ]
  },
  {
   "cell_type": "code",
   "execution_count": 206,
   "metadata": {},
   "outputs": [],
   "source": [
    "y = file1['payment_option'].value_counts()\n",
    "y_ = round((y/y.sum()) * 100, 2)"
   ]
  },
  {
   "cell_type": "code",
   "execution_count": 207,
   "metadata": {},
   "outputs": [
    {
     "data": {
      "text/plain": [
       "(-1.25, 1.25, -1.25, 1.25)"
      ]
     },
     "execution_count": 207,
     "metadata": {},
     "output_type": "execute_result"
    },
    {
     "data": {
      "image/png": "[encoded data removed]",
      "text/plain": [
       "<Figure size 432x288 with 1 Axes>"
      ]
     },
     "metadata": {},
     "output_type": "display_data"
    }
   ],
   "source": [
    "y_.plot.pie(autopct = '%0.f%%')\n",
    "plt.title('Mode of payment')\n",
    "plt.axis('off')"
   ]
  },
  {
   "cell_type": "markdown",
   "metadata": {},
   "source": [
    "##### Q11: Who is the busiest vendor based on number of supplies done?"
   ]
  },
  {
   "cell_type": "code",
   "execution_count": 208,
   "metadata": {},
   "outputs": [
    {
     "data": {
      "text/plain": [
       "<matplotlib.axes._subplots.AxesSubplot at 0x2c5345bd8b0>"
      ]
     },
     "execution_count": 208,
     "metadata": {},
     "output_type": "execute_result"
    },
    {
     "data": {
      "image/png": "[encoded data removed]",
      "text/plain": [
       "<Figure size 432x288 with 1 Axes>"
      ]
     },
     "metadata": {
      "needs_background": "light"
     },
     "output_type": "display_data"
    }
   ],
   "source": [
    "sns.countplot(x = 'shipment_size', data = supply_network, hue = 'current_logistics_vendor')"
   ]
  }
 ],
 "metadata": {
  "kernelspec": {
   "display_name": "Python 3",
   "language": "python",
   "name": "python3"
  },
  "language_info": {
   "codemirror_mode": {
    "name": "ipython",
    "version": 3
   },
   "file_extension": ".py",
   "mimetype": "text/x-python",
   "name": "python",
   "nbconvert_exporter": "python",
   "pygments_lexer": "ipython3",
   "version": "3.8.3"
  }
 },
 "nbformat": 4,
 "nbformat_minor": 4
}
